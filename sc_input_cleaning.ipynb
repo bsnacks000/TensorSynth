{
 "cells": [
  {
   "cell_type": "code",
   "execution_count": 1,
   "metadata": {
    "collapsed": true,
    "deletable": true,
    "editable": true
   },
   "outputs": [],
   "source": [
    "import pandas as pd\n",
    "import numpy as np\n"
   ]
  },
  {
   "cell_type": "markdown",
   "metadata": {
    "deletable": true,
    "editable": true
   },
   "source": [
    "#### Encoding/Cleaning\n",
    "- load json data / basic cleaning (sort, drop id, reset indices etc.)\n",
    "- calculate event duration and interarrival times\n",
    "- convert and bin values\n",
    "- concatenate rows into strings (words for NLP) and return as a pd.series"
   ]
  },
  {
   "cell_type": "code",
   "execution_count": 9,
   "metadata": {
    "collapsed": false,
    "deletable": true,
    "editable": true
   },
   "outputs": [],
   "source": [
    "# sort, drop id column and reset index (supercollider seems to occasionally drop events )\n",
    "df_raw = pd.read_json('./data/test.json',orient='index').sort_values('noteOn_timestamp').drop('id',axis=1).reset_index(drop=True)\n",
    "\n",
    "#calculate duration: noteOn[i] - noteOff[i]\n",
    "df_raw['duration'] = df_raw.apply(lambda row: row['noteOff_timestamp'] - row['noteOn_timestamp'],axis=1)\n",
    "\n",
    "# calculate interevent duration (wait time between events): noteOn[i] - noteOn[i-1] ...\n",
    "# shifting and then dividing by -1 \n",
    "df_raw['inter_event_duration'] = (df_raw['noteOn_timestamp'] - df_raw['noteOn_timestamp'].shift(-1))/ -1\n",
    "\n",
    "# timestamps no longer needed\n",
    "df_raw = df_raw.drop(['noteOn_timestamp','noteOff_timestamp'],axis=1)\n",
    "\n",
    "#new_index = \n",
    "binned_df = pd.DataFrame(columns=df_raw.columns)"
   ]
  },
  {
   "cell_type": "code",
   "execution_count": 3,
   "metadata": {
    "collapsed": false,
    "deletable": true,
    "editable": true
   },
   "outputs": [],
   "source": [
    "import string\n",
    "#used for amplitude\n",
    "bin4 = [i for i in range(0,127,32)]\n",
    "label4 = [string.ascii_lowercase[i] for i in range(3)]\n",
    "# used for voices\n",
    "bin8 = [i for i in range(0,127,16)]\n",
    "label8 = [string.ascii_lowercase[i] for i in range(7)]\n",
    "\n",
    "# used for grain rate/dur and deviations\n",
    "bin16 = [i for i in range(0,127,8)]\n",
    "label16 = [string.ascii_lowercase[i] for i in range(15)]\n",
    "\n",
    "dur_bins = np.logspace(-1,1.25,12)  # need to test edge cases for this one.. \n",
    "dur_labels = [string.ascii_lowercase[i] for i in range(11)]"
   ]
  },
  {
   "cell_type": "code",
   "execution_count": 10,
   "metadata": {
    "collapsed": false,
    "deletable": true,
    "editable": true
   },
   "outputs": [
    {
     "data": {
      "text/plain": [
       "array([  0.1       ,   0.16015683,   0.25650209,   0.41080561,\n",
       "         0.65793322,   1.05372497,   1.68761248,   2.70282658,\n",
       "         4.32876128,   6.93280669,  11.10336318,  17.7827941 ])"
      ]
     },
     "execution_count": 10,
     "metadata": {},
     "output_type": "execute_result"
    }
   ],
   "source": [
    "# load the binned df using cut -- keep freq as integer value (for now.. )\n",
    "binned_df['amp'] = pd.cut(df_raw['amp'], bin4,labels=label4)\n",
    "binned_df['freq_dev'] = pd.cut(df_raw['freq_dev'], bin16,labels=label16)\n",
    "binned_df['grain_dur'] = pd.cut(df_raw['grain_dur'], bin16,labels=label16)\n",
    "binned_df['grain_dur_dev'] = pd.cut(df_raw['grain_dur_dev'],bin16,labels=label16)\n",
    "binned_df['grain_rate']  = pd.cut(df_raw['grain_rate'],bin16,labels=label16)\n",
    "binned_df['grain_rate_dev'] = pd.cut(df_raw['grain_rate_dev'],bin16,labels=label16)\n",
    "binned_df['n_voices'] = pd.cut(df_raw['n_voices'],bin8,labels=label8)\n",
    "binned_df['rel'] = pd.cut(df_raw['rel'], bin4,labels=label4)\n",
    "\n",
    "binned_df['duration'] = pd.cut(df_raw['duration'],dur_bins,labels=dur_labels)\n",
    "binned_df['inter_event_duration'] = pd.cut(df_raw['inter_event_duration'],dur_bins,labels=dur_labels)\n",
    "\n",
    "binned_df['freq'] = df_raw['freq']\n",
    "binned_df.dropna()\n",
    "\n",
    "dur_bins\n"
   ]
  },
  {
   "cell_type": "code",
   "execution_count": 11,
   "metadata": {
    "collapsed": false,
    "deletable": true,
    "editable": true
   },
   "outputs": [],
   "source": [
    "cols = list(binned_df)\n",
    "cols[1], cols[0] = cols[0], cols[1]\n",
    "binned_df = binned_df.ix[:,cols]  # works for this sample, but may need to reorder if json file inputs differently\n",
    "binned_df = binned_df.dropna().reset_index(drop=True)"
   ]
  },
  {
   "cell_type": "code",
   "execution_count": 12,
   "metadata": {
    "collapsed": false,
    "deletable": true,
    "editable": true
   },
   "outputs": [],
   "source": [
    "\n",
    "word_series = binned_df.iloc[:,0].astype(str) + '_' # freq first then string of categories \n",
    "for i in range(1, len(binned_df.columns)):\n",
    "    word_series += binned_df.iloc[:,i].astype(str)"
   ]
  },
  {
   "cell_type": "code",
   "execution_count": 42,
   "metadata": {
    "collapsed": false,
    "deletable": true,
    "editable": true
   },
   "outputs": [
    {
     "data": {
      "text/plain": [
       "['(0, 8]',\n",
       " '(8, 16]',\n",
       " '(16, 24]',\n",
       " '(24, 32]',\n",
       " '(32, 40]',\n",
       " '(40, 48]',\n",
       " '(48, 56]',\n",
       " '(56, 64]',\n",
       " '(64, 72]',\n",
       " '(72, 80]',\n",
       " '(80, 88]',\n",
       " '(88, 96]',\n",
       " '(96, 104]',\n",
       " '(104, 112]',\n",
       " '(112, 120]']"
      ]
     },
     "execution_count": 42,
     "metadata": {},
     "output_type": "execute_result"
    }
   ],
   "source": [
    "word_series\n",
    "\n",
    "pd.cut(df_raw['grain_dur'], bin16).cat.categories.tolist()\n",
    "\n"
   ]
  },
  {
   "cell_type": "markdown",
   "metadata": {
    "deletable": true,
    "editable": true
   },
   "source": [
    "#### Decoding\n",
    "\n",
    "- Specs for the binnings need to be stored in a config file/data structure \n",
    "- After tensorflow produces results they need to be decoded back to midi-json format\n",
    "- midi values are randomized within the binned ranges and returned to supercollider\n"
   ]
  },
  {
   "cell_type": "code",
   "execution_count": null,
   "metadata": {
    "collapsed": false,
    "deletable": true,
    "editable": true
   },
   "outputs": [],
   "source": []
  },
  {
   "cell_type": "code",
   "execution_count": null,
   "metadata": {
    "collapsed": true,
    "deletable": true,
    "editable": true
   },
   "outputs": [],
   "source": []
  },
  {
   "cell_type": "code",
   "execution_count": null,
   "metadata": {
    "collapsed": true,
    "deletable": true,
    "editable": true
   },
   "outputs": [],
   "source": []
  },
  {
   "cell_type": "code",
   "execution_count": null,
   "metadata": {
    "collapsed": true,
    "deletable": true,
    "editable": true
   },
   "outputs": [],
   "source": []
  },
  {
   "cell_type": "code",
   "execution_count": null,
   "metadata": {
    "collapsed": true,
    "deletable": true,
    "editable": true
   },
   "outputs": [],
   "source": []
  },
  {
   "cell_type": "code",
   "execution_count": null,
   "metadata": {
    "collapsed": true,
    "deletable": true,
    "editable": true
   },
   "outputs": [],
   "source": []
  },
  {
   "cell_type": "code",
   "execution_count": null,
   "metadata": {
    "collapsed": true,
    "deletable": true,
    "editable": true
   },
   "outputs": [],
   "source": []
  }
 ],
 "metadata": {
  "kernelspec": {
   "display_name": "Python 3",
   "language": "python",
   "name": "python3"
  },
  "language_info": {
   "codemirror_mode": {
    "name": "ipython",
    "version": 3
   },
   "file_extension": ".py",
   "mimetype": "text/x-python",
   "name": "python",
   "nbconvert_exporter": "python",
   "pygments_lexer": "ipython3",
   "version": "3.6.0"
  }
 },
 "nbformat": 4,
 "nbformat_minor": 2
}
