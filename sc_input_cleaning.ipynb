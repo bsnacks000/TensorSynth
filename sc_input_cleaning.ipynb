{
 "cells": [
  {
   "cell_type": "code",
   "execution_count": 1,
   "metadata": {
    "collapsed": true
   },
   "outputs": [],
   "source": [
    "import pandas as pd\n",
    "import numpy as np\n"
   ]
  },
  {
   "cell_type": "markdown",
   "metadata": {},
   "source": [
    "#### Encoding/Cleaning\n",
    "- load json data / basic cleaning (sort, drop id, reset indices etc.)\n",
    "- calculate event duration and interarrival times\n",
    "- convert and bin values\n",
    "- concatenate rows into strings (words for NLP) and return as a pd.series"
   ]
  },
  {
   "cell_type": "code",
   "execution_count": 2,
   "metadata": {
    "collapsed": false
   },
   "outputs": [],
   "source": [
    "# sort, drop id column and reset index (supercollider seems to occasionally drop events )\n",
    "df_raw = pd.read_json('./data/test.json',orient='index').sort_values('noteOn_timestamp').drop('id',axis=1).reset_index(drop=True)\n",
    "\n",
    "#calculate duration: noteOn[i] - noteOff[i]\n",
    "df_raw['duration'] = df_raw.apply(lambda row: row['noteOff_timestamp'] - row['noteOn_timestamp'],axis=1)\n",
    "\n",
    "# calculate interevent duration (wait time between events): noteOn[i] - noteOn[i-1] ...\n",
    "# shifting and then dividing by -1 \n",
    "df_raw['inter_event_duration'] = (df_raw['noteOn_timestamp'] - df_raw['noteOn_timestamp'].shift(-1))/ -1\n",
    "\n",
    "# timestamps no longer needed\n",
    "df_raw = df_raw.drop(['noteOn_timestamp','noteOff_timestamp'],axis=1)\n",
    "\n",
    "#new_index = \n",
    "binned_df = pd.DataFrame(columns=df_raw.columns)"
   ]
  },
  {
   "cell_type": "code",
   "execution_count": 3,
   "metadata": {
    "collapsed": false
   },
   "outputs": [],
   "source": [
    "import string\n",
    "#used for amplitude\n",
    "bin4 = [i for i in range(0,127,32)]\n",
    "label4 = [string.ascii_lowercase[i] for i in range(3)]\n",
    "# used for voices\n",
    "bin8 = [i for i in range(0,127,16)]\n",
    "label8 = [string.ascii_lowercase[i] for i in range(7)]\n",
    "\n",
    "# used for grain rate/dur and deviations\n",
    "bin16 = [i for i in range(0,127,8)]\n",
    "label16 = [string.ascii_lowercase[i] for i in range(15)]"
   ]
  },
  {
   "cell_type": "code",
   "execution_count": 5,
   "metadata": {
    "collapsed": false
   },
   "outputs": [
    {
     "data": {
      "text/html": [
       "<div>\n",
       "<table border=\"1\" class=\"dataframe\">\n",
       "  <thead>\n",
       "    <tr style=\"text-align: right;\">\n",
       "      <th></th>\n",
       "      <th>amp</th>\n",
       "      <th>freq</th>\n",
       "      <th>freq_dev</th>\n",
       "      <th>grain_dur</th>\n",
       "      <th>grain_dur_dev</th>\n",
       "      <th>grain_rate</th>\n",
       "      <th>grain_rate_dev</th>\n",
       "      <th>n_voices</th>\n",
       "      <th>rel</th>\n",
       "      <th>duration</th>\n",
       "      <th>inter_event_duration</th>\n",
       "    </tr>\n",
       "  </thead>\n",
       "  <tbody>\n",
       "    <tr>\n",
       "      <th>0</th>\n",
       "      <td>b</td>\n",
       "      <td>72</td>\n",
       "      <td>d</td>\n",
       "      <td>d</td>\n",
       "      <td>d</td>\n",
       "      <td>c</td>\n",
       "      <td>c</td>\n",
       "      <td>a</td>\n",
       "      <td>a</td>\n",
       "      <td>p</td>\n",
       "      <td>u</td>\n",
       "    </tr>\n",
       "    <tr>\n",
       "      <th>1</th>\n",
       "      <td>b</td>\n",
       "      <td>78</td>\n",
       "      <td>i</td>\n",
       "      <td>d</td>\n",
       "      <td>d</td>\n",
       "      <td>d</td>\n",
       "      <td>f</td>\n",
       "      <td>b</td>\n",
       "      <td>b</td>\n",
       "      <td>r</td>\n",
       "      <td>w</td>\n",
       "    </tr>\n",
       "    <tr>\n",
       "      <th>2</th>\n",
       "      <td>b</td>\n",
       "      <td>69</td>\n",
       "      <td>e</td>\n",
       "      <td>f</td>\n",
       "      <td>i</td>\n",
       "      <td>d</td>\n",
       "      <td>c</td>\n",
       "      <td>e</td>\n",
       "      <td>a</td>\n",
       "      <td>p</td>\n",
       "      <td>s</td>\n",
       "    </tr>\n",
       "    <tr>\n",
       "      <th>3</th>\n",
       "      <td>b</td>\n",
       "      <td>73</td>\n",
       "      <td>e</td>\n",
       "      <td>f</td>\n",
       "      <td>i</td>\n",
       "      <td>f</td>\n",
       "      <td>c</td>\n",
       "      <td>e</td>\n",
       "      <td>a</td>\n",
       "      <td>i</td>\n",
       "      <td>m</td>\n",
       "    </tr>\n",
       "    <tr>\n",
       "      <th>4</th>\n",
       "      <td>b</td>\n",
       "      <td>74</td>\n",
       "      <td>l</td>\n",
       "      <td>f</td>\n",
       "      <td>i</td>\n",
       "      <td>f</td>\n",
       "      <td>c</td>\n",
       "      <td>e</td>\n",
       "      <td>a</td>\n",
       "      <td>k</td>\n",
       "      <td>q</td>\n",
       "    </tr>\n",
       "    <tr>\n",
       "      <th>5</th>\n",
       "      <td>b</td>\n",
       "      <td>70</td>\n",
       "      <td>l</td>\n",
       "      <td>f</td>\n",
       "      <td>i</td>\n",
       "      <td>f</td>\n",
       "      <td>c</td>\n",
       "      <td>g</td>\n",
       "      <td>b</td>\n",
       "      <td>p</td>\n",
       "      <td>s</td>\n",
       "    </tr>\n",
       "    <tr>\n",
       "      <th>6</th>\n",
       "      <td>b</td>\n",
       "      <td>79</td>\n",
       "      <td>l</td>\n",
       "      <td>f</td>\n",
       "      <td>c</td>\n",
       "      <td>f</td>\n",
       "      <td>c</td>\n",
       "      <td>g</td>\n",
       "      <td>b</td>\n",
       "      <td>m</td>\n",
       "      <td>r</td>\n",
       "    </tr>\n",
       "    <tr>\n",
       "      <th>7</th>\n",
       "      <td>b</td>\n",
       "      <td>84</td>\n",
       "      <td>l</td>\n",
       "      <td>f</td>\n",
       "      <td>c</td>\n",
       "      <td>d</td>\n",
       "      <td>c</td>\n",
       "      <td>g</td>\n",
       "      <td>b</td>\n",
       "      <td>i</td>\n",
       "      <td>i</td>\n",
       "    </tr>\n",
       "    <tr>\n",
       "      <th>8</th>\n",
       "      <td>b</td>\n",
       "      <td>83</td>\n",
       "      <td>l</td>\n",
       "      <td>f</td>\n",
       "      <td>c</td>\n",
       "      <td>d</td>\n",
       "      <td>c</td>\n",
       "      <td>g</td>\n",
       "      <td>b</td>\n",
       "      <td>i</td>\n",
       "      <td>m</td>\n",
       "    </tr>\n",
       "    <tr>\n",
       "      <th>9</th>\n",
       "      <td>b</td>\n",
       "      <td>75</td>\n",
       "      <td>e</td>\n",
       "      <td>f</td>\n",
       "      <td>c</td>\n",
       "      <td>d</td>\n",
       "      <td>c</td>\n",
       "      <td>g</td>\n",
       "      <td>b</td>\n",
       "      <td>m</td>\n",
       "      <td>o</td>\n",
       "    </tr>\n",
       "    <tr>\n",
       "      <th>10</th>\n",
       "      <td>b</td>\n",
       "      <td>80</td>\n",
       "      <td>e</td>\n",
       "      <td>f</td>\n",
       "      <td>c</td>\n",
       "      <td>f</td>\n",
       "      <td>c</td>\n",
       "      <td>g</td>\n",
       "      <td>b</td>\n",
       "      <td>d</td>\n",
       "      <td>n</td>\n",
       "    </tr>\n",
       "    <tr>\n",
       "      <th>11</th>\n",
       "      <td>b</td>\n",
       "      <td>78</td>\n",
       "      <td>b</td>\n",
       "      <td>c</td>\n",
       "      <td>c</td>\n",
       "      <td>f</td>\n",
       "      <td>f</td>\n",
       "      <td>g</td>\n",
       "      <td>b</td>\n",
       "      <td>n</td>\n",
       "      <td>p</td>\n",
       "    </tr>\n",
       "    <tr>\n",
       "      <th>12</th>\n",
       "      <td>b</td>\n",
       "      <td>73</td>\n",
       "      <td>b</td>\n",
       "      <td>c</td>\n",
       "      <td>c</td>\n",
       "      <td>f</td>\n",
       "      <td>e</td>\n",
       "      <td>g</td>\n",
       "      <td>b</td>\n",
       "      <td>j</td>\n",
       "      <td>m</td>\n",
       "    </tr>\n",
       "    <tr>\n",
       "      <th>13</th>\n",
       "      <td>b</td>\n",
       "      <td>68</td>\n",
       "      <td>b</td>\n",
       "      <td>c</td>\n",
       "      <td>c</td>\n",
       "      <td>f</td>\n",
       "      <td>e</td>\n",
       "      <td>g</td>\n",
       "      <td>b</td>\n",
       "      <td>k</td>\n",
       "      <td>n</td>\n",
       "    </tr>\n",
       "  </tbody>\n",
       "</table>\n",
       "</div>"
      ],
      "text/plain": [
       "   amp  freq freq_dev grain_dur grain_dur_dev grain_rate grain_rate_dev  \\\n",
       "0    b    72        d         d             d          c              c   \n",
       "1    b    78        i         d             d          d              f   \n",
       "2    b    69        e         f             i          d              c   \n",
       "3    b    73        e         f             i          f              c   \n",
       "4    b    74        l         f             i          f              c   \n",
       "5    b    70        l         f             i          f              c   \n",
       "6    b    79        l         f             c          f              c   \n",
       "7    b    84        l         f             c          d              c   \n",
       "8    b    83        l         f             c          d              c   \n",
       "9    b    75        e         f             c          d              c   \n",
       "10   b    80        e         f             c          f              c   \n",
       "11   b    78        b         c             c          f              f   \n",
       "12   b    73        b         c             c          f              e   \n",
       "13   b    68        b         c             c          f              e   \n",
       "\n",
       "   n_voices rel duration inter_event_duration  \n",
       "0         a   a        p                    u  \n",
       "1         b   b        r                    w  \n",
       "2         e   a        p                    s  \n",
       "3         e   a        i                    m  \n",
       "4         e   a        k                    q  \n",
       "5         g   b        p                    s  \n",
       "6         g   b        m                    r  \n",
       "7         g   b        i                    i  \n",
       "8         g   b        i                    m  \n",
       "9         g   b        m                    o  \n",
       "10        g   b        d                    n  \n",
       "11        g   b        n                    p  \n",
       "12        g   b        j                    m  \n",
       "13        g   b        k                    n  "
      ]
     },
     "execution_count": 5,
     "metadata": {},
     "output_type": "execute_result"
    }
   ],
   "source": [
    "# load the binned df using cut -- keep freq as integer value (for now.. )\n",
    "binned_df['amp'] = pd.cut(df_raw['amp'], bin4,labels=label4)\n",
    "binned_df['freq_dev'] = pd.cut(df_raw['freq_dev'], bin16,labels=label16)\n",
    "binned_df['grain_dur'] = pd.cut(df_raw['grain_dur'], bin16,labels=label16)\n",
    "binned_df['grain_dur_dev'] = pd.cut(df_raw['grain_dur_dev'],bin16,labels=label16)\n",
    "binned_df['grain_rate']  = pd.cut(df_raw['grain_rate'],bin16,labels=label16)\n",
    "binned_df['grain_rate_dev'] = pd.cut(df_raw['grain_rate_dev'],bin16,labels=label16)\n",
    "binned_df['n_voices'] = pd.cut(df_raw['n_voices'],bin8,labels=label8)\n",
    "binned_df['rel'] = pd.cut(df_raw['rel'], bin4,labels=label4)\n",
    "\n",
    "dur_bins = np.logspace(-1,1.25,27)  # need to test edge cases for this one.. \n",
    "dur_labels = [string.ascii_lowercase[i] for i in range(26)]\n",
    "binned_df['duration'] = pd.cut(df_raw['duration'],dur_bins,labels=dur_labels)\n",
    "binned_df['inter_event_duration'] = pd.cut(df_raw['inter_event_duration'],dur_bins,labels=dur_labels)\n",
    "\n",
    "binned_df['freq'] = df_raw['freq']\n",
    "binned_df.dropna()\n",
    "\n"
   ]
  },
  {
   "cell_type": "code",
   "execution_count": 6,
   "metadata": {
    "collapsed": false
   },
   "outputs": [],
   "source": [
    "cols = list(binned_df)\n",
    "cols[1], cols[0] = cols[0], cols[1]\n",
    "binned_df = binned_df.ix[:,cols]  # works for this sample, but may need to reorder if json file inputs differently\n",
    "binned_df = binned_df.dropna().reset_index(drop=True)"
   ]
  },
  {
   "cell_type": "code",
   "execution_count": 25,
   "metadata": {
    "collapsed": false
   },
   "outputs": [],
   "source": [
    "\n",
    "word_series = binned_df.iloc[:,0].astype(str) + '_' # freq first then string of categories \n",
    "for i in range(1, len(binned_df.columns)):\n",
    "    word_series += binned_df.iloc[:,i].astype(str)"
   ]
  },
  {
   "cell_type": "code",
   "execution_count": 31,
   "metadata": {
    "collapsed": false
   },
   "outputs": [
    {
     "data": {
      "text/plain": [
       "0     72_bdddccaapu\n",
       "1     78_bidddfbbrw\n",
       "2     69_befidceaps\n",
       "3     73_befifceaim\n",
       "4     74_blfifceakq\n",
       "5     70_blfifcgbps\n",
       "6     79_blfcfcgbmr\n",
       "7     84_blfcdcgbii\n",
       "8     83_blfcdcgbim\n",
       "9     75_befcdcgbmo\n",
       "10    80_befcfcgbdn\n",
       "11    78_bbccffgbnp\n",
       "12    73_bbccfegbjm\n",
       "13    68_bbccfegbkn\n",
       "Name: freq, dtype: object"
      ]
     },
     "execution_count": 31,
     "metadata": {},
     "output_type": "execute_result"
    }
   ],
   "source": [
    "word_series\n"
   ]
  },
  {
   "cell_type": "markdown",
   "metadata": {},
   "source": [
    "#### Decoding\n",
    "\n",
    "- Specs for the binnings need to be stored in a config file/data structure \n",
    "- After tensorflow produces results they need to be decoded back to midi-json format\n",
    "- midi values are randomized within the binned ranges and returned to supercollider\n"
   ]
  },
  {
   "cell_type": "code",
   "execution_count": null,
   "metadata": {
    "collapsed": false
   },
   "outputs": [],
   "source": []
  },
  {
   "cell_type": "code",
   "execution_count": null,
   "metadata": {
    "collapsed": true
   },
   "outputs": [],
   "source": []
  },
  {
   "cell_type": "code",
   "execution_count": null,
   "metadata": {
    "collapsed": true
   },
   "outputs": [],
   "source": []
  },
  {
   "cell_type": "code",
   "execution_count": null,
   "metadata": {
    "collapsed": true
   },
   "outputs": [],
   "source": []
  },
  {
   "cell_type": "code",
   "execution_count": null,
   "metadata": {
    "collapsed": true
   },
   "outputs": [],
   "source": []
  },
  {
   "cell_type": "code",
   "execution_count": null,
   "metadata": {
    "collapsed": true
   },
   "outputs": [],
   "source": []
  },
  {
   "cell_type": "code",
   "execution_count": null,
   "metadata": {
    "collapsed": true
   },
   "outputs": [],
   "source": []
  }
 ],
 "metadata": {
  "kernelspec": {
   "display_name": "Python 3",
   "language": "python",
   "name": "python3"
  },
  "language_info": {
   "codemirror_mode": {
    "name": "ipython",
    "version": 3
   },
   "file_extension": ".py",
   "mimetype": "text/x-python",
   "name": "python",
   "nbconvert_exporter": "python",
   "pygments_lexer": "ipython3",
   "version": "3.6.0"
  }
 },
 "nbformat": 4,
 "nbformat_minor": 2
}
